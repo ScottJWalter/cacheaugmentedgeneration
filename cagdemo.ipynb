{
  "cells": [
    {
      "cell_type": "markdown",
      "metadata": {
        "id": "ww0BKY1HEfVY"
      },
      "source": [
        "# Cache-Augmented Generation\n",
        "\n",
        "This notebook is a demonstration of **Cache-Augmented Generation** using:\n",
        "- **Mistral** (`mistralai/Mistral-7B-Instruct-v0.1`)\n",
        "- A `document.txt` file describing **YOU**.\n",
        "- A simple **KV cache** mechanism with `DynamicCache`.\n",
        "\n",
        "We’ll:\n",
        "1. Load the model.\n",
        "2. Preload `document.txt` into the cache.\n",
        "3. Ask two questions, reusing the same cache.\n",
        "\n",
        "Prerequisites:\n",
        "1. A HuggingFace account\n",
        "2. A .env file with your HuggingFace access token.\n",
        "3. A document.txt file with sentences about yourself.\n",
        "\n",
        "For this demo, I will be using my own document.txt and ask questions about myself (Ronan Takizawa)\n"
      ],
      "id": "ww0BKY1HEfVY"
    },
    {
      "cell_type": "markdown",
      "source": [
        "### Imports and the Generate Function\n",
        "We import the essential libraries (torch, transformers) and define the generate function. This function handles token-by-token generation, reusing the model’s past_key_values."
      ],
      "metadata": {
        "id": "mcHsquxWGLdB"
      },
      "id": "mcHsquxWGLdB"
    },
    {
      "cell_type": "code",
      "execution_count": null,
      "metadata": {
        "id": "1IqOLKJvEfVa"
      },
      "outputs": [],
      "source": [
        "import torch\n",
        "from transformers import AutoTokenizer, AutoModelForCausalLM\n",
        "from transformers.cache_utils import DynamicCache\n",
        "import os\n",
        "\n",
        "# Minimal generate function for token-by-token generation\n",
        "def generate(model, input_ids: torch.Tensor, past_key_values, max_new_tokens: int = 50) -> torch.Tensor:\n",
        "    device = model.model.embed_tokens.weight.device\n",
        "    origin_len = input_ids.shape[-1]\n",
        "    input_ids = input_ids.to(device)\n",
        "    output_ids = input_ids.clone()\n",
        "    next_token = input_ids\n",
        "\n",
        "    with torch.no_grad():\n",
        "        for _ in range(max_new_tokens):\n",
        "            out = model(\n",
        "                input_ids=next_token,\n",
        "                past_key_values=past_key_values,\n",
        "                use_cache=True\n",
        "            )\n",
        "            logits = out.logits[:, -1, :]\n",
        "            token = torch.argmax(logits, dim=-1, keepdim=True)\n",
        "            output_ids = torch.cat([output_ids, token], dim=-1)\n",
        "            past_key_values = out.past_key_values\n",
        "            next_token = token.to(device)\n",
        "\n",
        "            if model.config.eos_token_id is not None and token.item() == model.config.eos_token_id:\n",
        "                break\n",
        "\n",
        "    # Return just the newly generated part\n",
        "    return output_ids[:, origin_len:]"
      ],
      "id": "1IqOLKJvEfVa"
    },
    {
      "cell_type": "markdown",
      "source": [
        "### DynamicCache Setup\n",
        "Initializing the DynamicCache mechanism for storing and reusing the model’s key/value states. It also provides a clean_up function to truncate any extra tokens appended by user queries."
      ],
      "metadata": {
        "id": "ZBD6NNltGP9O"
      },
      "id": "ZBD6NNltGP9O"
    },
    {
      "cell_type": "code",
      "execution_count": null,
      "metadata": {
        "id": "UpXP3xKpEfVb"
      },
      "outputs": [],
      "source": [
        "torch.serialization.add_safe_globals([DynamicCache])\n",
        "torch.serialization.add_safe_globals([set])\n",
        "\n",
        "def get_kv_cache(model, tokenizer, prompt: str) -> DynamicCache:\n",
        "    # Encode prompt\n",
        "    device = model.model.embed_tokens.weight.device\n",
        "    input_ids = tokenizer(prompt, return_tensors=\"pt\").input_ids.to(device)\n",
        "    cache = DynamicCache()\n",
        "\n",
        "    with torch.no_grad():\n",
        "        _ = model(\n",
        "            input_ids=input_ids,\n",
        "            past_key_values=cache,\n",
        "            use_cache=True\n",
        "        )\n",
        "    return cache\n",
        "\n",
        "def clean_up(cache: DynamicCache, origin_len: int):\n",
        "    # Remove any tokens appended to the original knowledge\n",
        "    for i in range(len(cache.key_cache)):\n",
        "        cache.key_cache[i] = cache.key_cache[i][:, :, :origin_len, :]\n",
        "        cache.value_cache[i] = cache.value_cache[i][:, :, :origin_len, :]"
      ],
      "id": "UpXP3xKpEfVb"
    },
    {
      "cell_type": "markdown",
      "source": [
        "### .env function logic\n",
        "\n",
        "Defining logic to get Hugging Face Token to log inot Hugging Face and download the LLM."
      ],
      "metadata": {
        "id": "I7ZH0RwyGmVa"
      },
      "id": "I7ZH0RwyGmVa"
    },
    {
      "cell_type": "code",
      "source": [
        "def get_env():\n",
        "    env_dict = {}\n",
        "    env_file = \".env\" if os.path.exists(\".env\") else \"env\"\n",
        "    if os.path.exists(env_file):\n",
        "        with open(env_file, mode=\"r\") as f:\n",
        "            for line in f:\n",
        "                key, value = line.strip().split(\"=\")\n",
        "                env_dict[key] = value.strip('\"')\n",
        "    else:\n",
        "        print(\"No .env or env file found; HF_TOKEN may not be set.\")\n",
        "    return env_dict\n",
        "\n",
        "env = get_env()\n",
        "HF_TOKEN = env.get(\"HF_TOKEN\", None)\n",
        "\n",
        "# Global placeholders (if needed)\n",
        "model_name = None\n",
        "model = None\n",
        "tokenizer = None\n",
        "rand_seed = None\n",
        "\n",
        "print(\"Environment and imports are set.\")"
      ],
      "metadata": {
        "colab": {
          "base_uri": "https://localhost:8080/"
        },
        "id": "ylo_gh42Fm2p",
        "outputId": "f8355b00-6a83-46fa-f7bf-bff1a1cdbbf8"
      },
      "id": "ylo_gh42Fm2p",
      "execution_count": null,
      "outputs": [
        {
          "output_type": "stream",
          "name": "stdout",
          "text": [
            "Environment and imports are set.\n"
          ]
        }
      ]
    },
    {
      "cell_type": "markdown",
      "metadata": {
        "id": "5diLXLveEfVc"
      },
      "source": [
        "### Load Mistral\n",
        "We’ll load the `mistralai/Mistral-7B-Instruct-v0.1` model in full precision (FP16 on GPU if available).\n"
      ],
      "id": "5diLXLveEfVc"
    },
    {
      "cell_type": "code",
      "execution_count": null,
      "metadata": {
        "id": "f3FdvEEMEfVc"
      },
      "outputs": [],
      "source": [
        "model_name = \"mistralai/Mistral-7B-Instruct-v0.1\"\n",
        "tokenizer = AutoTokenizer.from_pretrained(model_name, token=HF_TOKEN, trust_remote_code=True)\n",
        "model = AutoModelForCausalLM.from_pretrained(\n",
        "    model_name,\n",
        "    torch_dtype=torch.float16 if torch.cuda.is_available() else torch.float32,\n",
        "    device_map=\"auto\",\n",
        "    trust_remote_code=True,\n",
        "    token=HF_TOKEN\n",
        ")\n",
        "device = \"cuda\"\n",
        "model.to(device)\n",
        "print(f\"Loaded {model_name}.\")"
      ],
      "id": "f3FdvEEMEfVc"
    },
    {
      "cell_type": "markdown",
      "metadata": {
        "id": "cV6N8TdEEfVc"
      },
      "source": [
        "### Create a Knowledge Prompt from `document.txt`\n",
        "We read the file, build a short system/user prompt, and call `get_kv_cache`."
      ],
      "id": "cV6N8TdEEfVc"
    },
    {
      "cell_type": "code",
      "execution_count": null,
      "metadata": {
        "colab": {
          "base_uri": "https://localhost:8080/"
        },
        "id": "bfsUydzrEfVc",
        "outputId": "236e0033-cabf-4e52-e0a5-f579ec194569"
      },
      "outputs": [
        {
          "output_type": "stream",
          "name": "stdout",
          "text": [
            "KV cache built.\n"
          ]
        }
      ],
      "source": [
        "if not os.path.exists(\"document.txt\"):\n",
        "    raise FileNotFoundError(\"Please create a `document.txt` with info about Ronan Takizawa.\")\n",
        "\n",
        "with open(\"document.txt\", \"r\", encoding=\"utf-8\") as f:\n",
        "    doc_text = f.read()\n",
        "\n",
        "system_prompt = f\"\"\"\n",
        "<|system|>\n",
        "You are an assistant who provides concise factual answers.\n",
        "<|user|>\n",
        "Context:\n",
        "{doc_text}\n",
        "Question:\n",
        "\"\"\".strip()\n",
        "\n",
        "# Build the cache\n",
        "ronan_cache = get_kv_cache(model, tokenizer, system_prompt)\n",
        "origin_len = ronan_cache.key_cache[0].shape[-2]\n",
        "print(\"KV cache built.\")"
      ],
      "id": "bfsUydzrEfVc"
    },
    {
      "cell_type": "markdown",
      "metadata": {
        "id": "VQjC-WjSEfVc"
      },
      "source": [
        "### Ask Questions Reusing the Cache\n",
        "We use the same knowledge (no real-time retrieval)."
      ],
      "id": "VQjC-WjSEfVc"
    },
    {
      "cell_type": "code",
      "execution_count": null,
      "metadata": {
        "colab": {
          "base_uri": "https://localhost:8080/"
        },
        "id": "JZos3PhoEfVc",
        "outputId": "10a6fd8a-007f-4ea0-c0e9-10b65cff3b45"
      },
      "outputs": [
        {
          "output_type": "stream",
          "name": "stdout",
          "text": [
            "Q1: Who is Ronan Takizawa?\n",
            "A1: \n",
            "Answer: Ronan Takizawa is a Colorado College computer science student, cybersecurity researcher, and tech content creator with over 100,000 followers across social media platforms. He has built several applications and systems using\n"
          ]
        }
      ],
      "source": [
        "# 1st query\n",
        "question1 = \"Who is Ronan Takizawa?\"\n",
        "clean_up(ronan_cache, origin_len)\n",
        "input_ids_q1 = tokenizer(question1 + \"\\n\", return_tensors=\"pt\").input_ids.to(device)\n",
        "gen_ids_q1 = generate(model, input_ids_q1, ronan_cache)\n",
        "answer1 = tokenizer.decode(gen_ids_q1[0], skip_special_tokens=True)\n",
        "print(\"Q1:\", question1)\n",
        "print(\"A1:\", answer1)"
      ],
      "id": "JZos3PhoEfVc"
    },
    {
      "cell_type": "code",
      "execution_count": null,
      "metadata": {
        "colab": {
          "base_uri": "https://localhost:8080/"
        },
        "id": "7lzogfXzEfVd",
        "outputId": "1317eef0-a258-48b4-9057-ac7e7cc31525"
      },
      "outputs": [
        {
          "output_type": "stream",
          "name": "stdout",
          "text": [
            "Q2: What are his main projects?\n",
            "A2: \n",
            "Answer: Ronan Takizawa's main projects include Punch Analytics, Noname, TeleSpeech, and the website automation system for the Ireland-Japan Chamber of Commerce.\n"
          ]
        }
      ],
      "source": [
        "# 2nd query\n",
        "question2 = \"What are his main projects?\"\n",
        "clean_up(ronan_cache, origin_len)\n",
        "input_ids_q2 = tokenizer(question2 + \"\\n\", return_tensors=\"pt\").input_ids.to(device)\n",
        "gen_ids_q2 = generate(model, input_ids_q2, ronan_cache)\n",
        "answer2 = tokenizer.decode(gen_ids_q2[0], skip_special_tokens=True)\n",
        "print(\"Q2:\", question2)\n",
        "print(\"A2:\", answer2)"
      ],
      "id": "7lzogfXzEfVd"
    },
    {
      "cell_type": "code",
      "source": [
        "# Save the cache to disk\n",
        "clean_up(ronan_cache, origin_len)\n",
        "cache_dir = \"cag_cache\"\n",
        "os.makedirs(cache_dir, exist_ok=True)\n",
        "\n",
        "# Save the KV cache\n",
        "torch.save(ronan_cache, os.path.join(cache_dir, \"ronan_knowledge.cache\"))\n"
      ],
      "metadata": {
        "id": "W7xwh1LGJsWH"
      },
      "id": "W7xwh1LGJsWH",
      "execution_count": null,
      "outputs": []
    },
    {
      "cell_type": "code",
      "source": [
        "# Load cache to prove context is preserved for multiple sessions\n",
        "loaded_cache = torch.load(os.path.join(cache_dir, \"ronan_knowledge.cache\"))\n",
        "\n",
        "question3 = \"What technologies has he worked with?\"\n",
        "input_ids_q3 = tokenizer(question3 + \"\\n\", return_tensors=\"pt\").input_ids.to(device)\n",
        "gen_ids_q3 = generate(model, input_ids_q3, loaded_cache)\n",
        "answer3 = tokenizer.decode(gen_ids_q3[0], skip_special_tokens=True)\n",
        "print(\"Q3:\", question3)\n",
        "print(\"A3:\", answer3)"
      ],
      "metadata": {
        "colab": {
          "base_uri": "https://localhost:8080/"
        },
        "id": "lIq1sZIqKnjw",
        "outputId": "f54bf2a9-b6ed-4406-9fbc-125ca81dfb92"
      },
      "id": "lIq1sZIqKnjw",
      "execution_count": null,
      "outputs": [
        {
          "output_type": "stream",
          "name": "stdout",
          "text": [
            "Q3: What technologies has he worked with?\n",
            "A3: \n",
            "Answer: Ronan Takizawa has worked with Python, TypeScript, Rust, Java, Shell, SQL, React, NodeJS, MongoDB, Docker, Kubernetes, AWS, GCP, Firebase, Open\n"
          ]
        }
      ]
    },
    {
      "cell_type": "markdown",
      "metadata": {
        "id": "7b2Sqs2AEfVd"
      },
      "source": [
        "### Done!\n",
        "This minimal notebook **preloads** knowledge, then answers queries using the **same** cached context."
      ],
      "id": "7b2Sqs2AEfVd"
    },
    {
      "cell_type": "markdown",
      "source": [
        "# Performance Comparison of RAG vs CAG"
      ],
      "metadata": {
        "id": "kc0qgX79Z5dA"
      },
      "id": "kc0qgX79Z5dA"
    },
    {
      "cell_type": "code",
      "source": [
        "# Cell: RAG vs CAG Performance Comparison\n",
        "\n",
        "import numpy as np\n",
        "import matplotlib.pyplot as plt\n",
        "import seaborn as sns\n",
        "from sentence_transformers import SentenceTransformer\n",
        "from sklearn.metrics.pairwise import cosine_similarity\n",
        "import pandas as pd\n",
        "\n",
        "# Simple RAG implementation for comparison\n",
        "class SimpleRAG:\n",
        "    def __init__(self, documents, model_name=\"all-MiniLM-L6-v2\"):\n",
        "        self.documents = documents\n",
        "        self.embedder = SentenceTransformer(model_name)\n",
        "        print(\"🔄 Encoding documents for RAG...\")\n",
        "        self.doc_embeddings = self.embedder.encode(documents)\n",
        "        print(\"✅ RAG setup complete\")\n",
        "\n",
        "    def retrieve_and_generate(self, query, top_k=2):\n",
        "        # Step 1: Retrieve relevant documents\n",
        "        query_embedding = self.embedder.encode([query])\n",
        "        similarities = cosine_similarity(query_embedding, self.doc_embeddings)[0]\n",
        "        top_indices = np.argsort(similarities)[-top_k:][::-1]\n",
        "        retrieved_docs = [self.documents[i] for i in top_indices]\n",
        "\n",
        "        # Step 2: Generate response (simulated - in reality this would call LLM)\n",
        "        # Simulate generation with the retrieved context + query\n",
        "        context = \" \".join(retrieved_docs)\n",
        "        generation_prompt = f\"Context: {context}\\nQuestion: {query}\\nAnswer:\"\n",
        "\n",
        "        # Use our existing model for generation\n",
        "        input_ids = tokenizer(generation_prompt, return_tensors=\"pt\").input_ids.to(device)\n",
        "        with torch.no_grad():\n",
        "            output = model.generate(\n",
        "                input_ids,\n",
        "                max_new_tokens=50,\n",
        "                do_sample=False,\n",
        "                pad_token_id=tokenizer.eos_token_id\n",
        "            )\n",
        "        response = tokenizer.decode(output[0][input_ids.shape[1]:], skip_special_tokens=True)\n",
        "\n",
        "        return response, retrieved_docs\n",
        "\n",
        "# Performance comparison function\n",
        "def compare_rag_vs_cag():\n",
        "    print(\"🚀 RAG vs CAG Performance Comparison\")\n",
        "    print(\"=\" * 50)\n",
        "\n",
        "    # Prepare documents for RAG (split the document text into chunks)\n",
        "    doc_chunks = doc_text.split('\\n\\n')  # Simple chunking by paragraphs\n",
        "    doc_chunks = [chunk.strip() for chunk in doc_chunks if chunk.strip()]\n",
        "\n",
        "    # Initialize RAG system\n",
        "    rag_system = SimpleRAG(doc_chunks)\n",
        "\n",
        "    # Test queries\n",
        "    test_queries = [\n",
        "        \"Who is Ronan Takizawa?\",\n",
        "        \"What are his main projects?\",\n",
        "        \"What technologies has he worked with?\",\n",
        "        \"What is his background?\",\n",
        "        \"Where does he study?\"\n",
        "    ]\n",
        "\n",
        "    print(f\"\\n📊 Testing with {len(test_queries)} queries...\")\n",
        "    print(\"-\" * 50)\n",
        "\n",
        "    # RAG Performance\n",
        "    print(\"\\n🔍 RAG Performance:\")\n",
        "    rag_responses = []\n",
        "    rag_retrieved_docs = []\n",
        "\n",
        "    for i, query in enumerate(test_queries, 1):\n",
        "        print(f\"\\nQuery {i}: {query}\")\n",
        "        response, retrieved_docs = rag_system.retrieve_and_generate(query)\n",
        "        rag_responses.append(response)\n",
        "        rag_retrieved_docs.append(retrieved_docs)\n",
        "        print(f\"  💬 Response: {response[:100]}...\")\n",
        "\n",
        "    # CAG Performance\n",
        "    print(\"\\n\\n⚡ CAG Performance:\")\n",
        "    cag_responses = []\n",
        "\n",
        "    # Load our pre-computed cache\n",
        "    loaded_cache = torch.load(os.path.join(cache_dir, \"ronan_knowledge.cache\"))\n",
        "\n",
        "    for i, query in enumerate(test_queries, 1):\n",
        "        print(f\"\\nQuery {i}: {query}\")\n",
        "\n",
        "        # Reset cache to clean state\n",
        "        clean_up(loaded_cache, origin_len)\n",
        "\n",
        "        # Generate response using cached knowledge\n",
        "        input_ids = tokenizer(query + \"\\n\", return_tensors=\"pt\").input_ids.to(device)\n",
        "        gen_ids = generate(model, input_ids, loaded_cache, max_new_tokens=50)\n",
        "        response = tokenizer.decode(gen_ids[0], skip_special_tokens=True)\n",
        "        cag_responses.append(response)\n",
        "\n",
        "        print(f\"  💬 Response: {response[:100]}...\")\n",
        "\n",
        "    # Comparison Summary\n",
        "    print(\"\\n\" + \"=\" * 50)\n",
        "    print(\"📈 COMPARISON SUMMARY\")\n",
        "    print(\"=\" * 50)\n",
        "\n",
        "    # Cost simulation (approximate)\n",
        "    print(f\"\\n💰 Cost Comparison (simulated):\")\n",
        "    # Assuming CAG processes knowledge once, RAG processes context every time\n",
        "    knowledge_tokens = len(tokenizer(doc_text)['input_ids'])\n",
        "    avg_query_tokens = np.mean([len(tokenizer(q)['input_ids']) for q in test_queries])\n",
        "\n",
        "    rag_total_tokens = len(test_queries) * (knowledge_tokens + avg_query_tokens)\n",
        "    cag_total_tokens = knowledge_tokens + (len(test_queries) * avg_query_tokens)\n",
        "\n",
        "    print(f\"  • RAG Total Tokens:  {rag_total_tokens:,} (reprocesses knowledge each time)\")\n",
        "    print(f\"  • CAG Total Tokens:  {cag_total_tokens:,} (processes knowledge once)\")\n",
        "    print(f\"  • Token Savings:     {((rag_total_tokens - cag_total_tokens) / rag_total_tokens * 100):.1f}%\")\n",
        "\n",
        "    print(f\"\\n🎯 Key Advantages of CAG:\")\n",
        "    print(f\"  ✅ No retrieval latency or errors\")\n",
        "    print(f\"  ✅ Consistent access to full knowledge base\")\n",
        "    print(f\"  ✅ Significant cost reduction for repeated queries\")\n",
        "    print(f\"  ✅ Simpler architecture (no retrieval system needed)\")\n",
        "\n",
        "    # Visualize results\n",
        "    visualize_comparison(test_queries, rag_responses, cag_responses,\n",
        "                        rag_total_tokens, cag_total_tokens, knowledge_tokens, avg_query_tokens)\n",
        "\n",
        "def visualize_comparison(queries, rag_responses, cag_responses, rag_tokens, cag_tokens, knowledge_tokens, avg_query_tokens):\n",
        "    \"\"\"Create visualizations comparing RAG vs CAG performance\"\"\"\n",
        "\n",
        "    # Set up the plotting style\n",
        "    plt.style.use('default')\n",
        "    sns.set_palette(\"husl\")\n",
        "\n",
        "    # Create a figure with 2 subplots side by side\n",
        "    fig, (ax1, ax2) = plt.subplots(1, 2, figsize=(12, 5))\n",
        "\n",
        "    # 1. Token Usage Comparison\n",
        "    methods = ['RAG', 'CAG']\n",
        "    token_counts = [rag_tokens, cag_tokens]\n",
        "    colors = ['#FF6B6B', '#4ECDC4']\n",
        "\n",
        "    bars = ax1.bar(methods, token_counts, color=colors, alpha=0.7, edgecolor='black', linewidth=1)\n",
        "    ax1.set_title('Token Usage Comparison', fontsize=14, fontweight='bold')\n",
        "    ax1.set_ylabel('Total Tokens')\n",
        "    ax1.ticklabel_format(style='plain', axis='y')\n",
        "\n",
        "    # Add value labels on bars\n",
        "    for bar, value in zip(bars, token_counts):\n",
        "        height = bar.get_height()\n",
        "        ax1.text(bar.get_x() + bar.get_width()/2., height + max(token_counts)*0.01,\n",
        "                f'{value:,}', ha='center', va='bottom', fontweight='bold')\n",
        "\n",
        "    # 2. Token Savings Visualization\n",
        "    savings_percent = ((rag_tokens - cag_tokens) / rag_tokens * 100)\n",
        "    wedges, texts, autotexts = ax2.pie([savings_percent, 100-savings_percent],\n",
        "                                      labels=['Savings', 'Remaining'],\n",
        "                                      colors=['#95E1D3', '#F8B500'],\n",
        "                                      autopct='%1.1f%%', startangle=90)\n",
        "    ax2.set_title('Token Savings with CAG', fontsize=14, fontweight='bold')\n",
        "\n",
        "    plt.tight_layout()\n",
        "    plt.show()\n",
        "\n",
        "    print(f\"\\n📊 Visualization Summary:\")\n",
        "    print(f\"  • CAG reduces token usage by {savings_percent:.1f}%\")\n",
        "    print(f\"  • Total token savings: {rag_tokens - cag_tokens:,} tokens\")\n",
        "    print(f\"  • RAG total tokens: {rag_tokens:,}\")\n",
        "    print(f\"  • CAG total tokens: {cag_tokens:,}\")\n",
        "\n",
        "# Run the comparison\n",
        "compare_rag_vs_cag()"
      ],
      "metadata": {
        "colab": {
          "base_uri": "https://localhost:8080/",
          "height": 1000
        },
        "id": "goJkfZlCZ5GK",
        "outputId": "4acf63fc-f89b-4749-e442-2d99cbf17b65"
      },
      "id": "goJkfZlCZ5GK",
      "execution_count": null,
      "outputs": [
        {
          "output_type": "stream",
          "name": "stdout",
          "text": [
            "🚀 RAG vs CAG Performance Comparison\n",
            "==================================================\n",
            "🔄 Encoding documents for RAG...\n",
            "✅ RAG setup complete\n",
            "\n",
            "📊 Testing with 5 queries...\n",
            "--------------------------------------------------\n",
            "\n",
            "🔍 RAG Performance:\n",
            "\n",
            "Query 1: Who is Ronan Takizawa?\n",
            "  💬 Response: Ronan Takizawa is a Colorado College computer science student, cybersecurity researcher, and tech co...\n",
            "\n",
            "Query 2: What are his main projects?\n",
            "  💬 Response: Punch Analytics, Noname, REST API for international schools, Ireland-Japan Chamber of Commerce websi...\n",
            "\n",
            "Query 3: What technologies has he worked with?\n",
            "  💬 Response: Python, TypeScript, Rust, Java, Shell, SQL, React, NodeJS, MongoDB, Docker, Kubernetes, AWS, GCP, Fi...\n",
            "\n",
            "Query 4: What is his background?\n",
            "  💬 Response: Ronan Takizawa is a Colorado College computer science student, cybersecurity researcher, and tech co...\n",
            "\n",
            "Query 5: Where does he study?\n",
            "  💬 Response: Ronan Takizawa studies at Colorado College....\n",
            "\n",
            "\n",
            "⚡ CAG Performance:\n",
            "\n",
            "Query 1: Who is Ronan Takizawa?\n",
            "  💬 Response: \n",
            "Answer: Ronan Takizawa is a Colorado College computer science student, cybersecurity researcher, an...\n",
            "\n",
            "Query 2: What are his main projects?\n",
            "  💬 Response: \n",
            "Answer: Ronan Takizawa's main projects include Punch Analytics, Noname, TeleSpeech, and the website...\n",
            "\n",
            "Query 3: What technologies has he worked with?\n",
            "  💬 Response: \n",
            "Answer: Ronan Takizawa has worked with Python, TypeScript, Rust, Java, Shell, SQL, React, NodeJS, M...\n",
            "\n",
            "Query 4: What is his background?\n",
            "  💬 Response: \n",
            "Answer: Ronan Takizawa is a Colorado College computer science student, cybersecurity researcher, an...\n",
            "\n",
            "Query 5: Where does he study?\n",
            "  💬 Response: \n",
            "Answer: Ronan Takizawa studies at Colorado College....\n",
            "\n",
            "==================================================\n",
            "📈 COMPARISON SUMMARY\n",
            "==================================================\n",
            "\n",
            "💰 Cost Comparison (simulated):\n",
            "  • RAG Total Tokens:  936.0 (reprocesses knowledge each time)\n",
            "  • CAG Total Tokens:  216.0 (processes knowledge once)\n",
            "  • Token Savings:     76.9%\n",
            "\n",
            "🎯 Key Advantages of CAG:\n",
            "  ✅ No retrieval latency or errors\n",
            "  ✅ Consistent access to full knowledge base\n",
            "  ✅ Significant cost reduction for repeated queries\n",
            "  ✅ Simpler architecture (no retrieval system needed)\n"
          ]
        },
        {
          "output_type": "display_data",
          "data": {
            "text/plain": [
              "<Figure size 1200x500 with 2 Axes>"
            ],
            "image/png": "[encoded data removed]"
          },
          "metadata": {}
        },
        {
          "output_type": "stream",
          "name": "stdout",
          "text": [
            "\n",
            "📊 Visualization Summary:\n",
            "  • CAG reduces token usage by 76.9%\n",
            "  • Total token savings: 720.0 tokens\n",
            "  • RAG total tokens: 936.0\n",
            "  • CAG total tokens: 216.0\n"
          ]
        }
      ]
    }
  ],
  "metadata": {
    "kernelspec": {
      "display_name": "Python 3",
      "name": "python3"
    },
    "language_info": {
      "name": "python",
      "version": "3.9"
    },
    "colab": {
      "provenance": [],
      "gpuType": "L4"
    },
    "accelerator": "GPU"
  },
  "nbformat": 4,
  "nbformat_minor": 5
}